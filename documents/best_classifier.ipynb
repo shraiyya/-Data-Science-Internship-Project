{
  "nbformat": 4,
  "nbformat_minor": 0,
  "metadata": {
    "colab": {
      "name": "best_classifier.ipynb",
      "provenance": [],
      "collapsed_sections": [],
      "toc_visible": true
    },
    "kernelspec": {
      "name": "python3",
      "display_name": "Python 3"
    }
  },
  "cells": [
    {
      "cell_type": "code",
      "metadata": {
        "id": "MTL8ughd_Ddx",
        "colab_type": "code",
        "colab": {}
      },
      "source": [
        "import pandas as pd \n",
        "import numpy as np\n",
        "import seaborn as sns\n",
        "import matplotlib.pyplot as plt\n",
        "from matplotlib.backends.backend_pdf import PdfPages\n",
        "from sklearn.metrics import roc_auc_score\n",
        "from sklearn.preprocessing import LabelEncoder\n",
        "\n",
        "df=pd.read_csv('/content/DS_DATESET.csv')\n",
        "\n",
        "labelencoder = LabelEncoder()\n",
        "df['year1'] = labelencoder.fit_transform(df['Which-year are you studying in?'])\n",
        "df['output'] = labelencoder.fit_transform(df['Label'])\n"
      ],
      "execution_count": 12,
      "outputs": []
    },
    {
      "cell_type": "code",
      "metadata": {
        "id": "3DPPIU8i7W0X",
        "colab_type": "code",
        "colab": {}
      },
      "source": [
        "from sklearn.model_selection import train_test_split \n",
        "from sklearn import metrics\n",
        "from sklearn.metrics import accuracy_score,confusion_matrix\n",
        "from sklearn.metrics import f1_score\n",
        "from sklearn.tree import DecisionTreeClassifier\n",
        "from sklearn.naive_bayes import GaussianNB\n",
        "from sklearn.neighbors import KNeighborsClassifier\n",
        "from sklearn.ensemble import RandomForestClassifier\n",
        "\n",
        "x4=df[[\"CGPA/ percentage\",\"Rate your written communication skills [1-10]\",\"Rate your verbal communication skills [1-10]\",\"year1\"]]\n",
        "y4=df['output']\n",
        "\n",
        "x_train1, x_test1, y_train1,y_test1=train_test_split(x4,y4,test_size=0.20,random_state=42)"
      ],
      "execution_count": 13,
      "outputs": []
    },
    {
      "cell_type": "code",
      "metadata": {
        "id": "gibw4xqCd-Wp",
        "colab_type": "code",
        "colab": {
          "base_uri": "https://localhost:8080/",
          "height": 68
        },
        "outputId": "928308e5-4a5f-4c25-c6d9-159115c32161"
      },
      "source": [
        "ans1=GaussianNB()\n",
        "ans1.fit(x_train1, y_train1)\n",
        "y_pre1= ans1.predict(x_test1)\n",
        "print(\"GaussianNB accuracy %:\",accuracy_score(y_test1,y_pre1)*100)\n",
        "print(\"GaussianNB roc_auc_score :\",roc_auc_score(y_test1,y_pre1))\n",
        "print(f1_score(y_test1, y_pre1))"
      ],
      "execution_count": 14,
      "outputs": [
        {
          "output_type": "stream",
          "text": [
            "GaussianNB accuracy %: 86.35000000000001\n",
            "GaussianNB roc_auc_score : 0.836442096453604\n",
            "0.8953622077424301\n"
          ],
          "name": "stdout"
        }
      ]
    },
    {
      "cell_type": "code",
      "metadata": {
        "colab_type": "code",
        "id": "DvR7lAC_iqE6",
        "colab": {
          "base_uri": "https://localhost:8080/",
          "height": 68
        },
        "outputId": "0b2f4318-18ef-4b52-d5c3-ffb3da9d6d04"
      },
      "source": [
        "ans2=KNeighborsClassifier()\n",
        "ans2.fit(x_train1, y_train1)\n",
        "y_pre2= ans2.predict(x_test1)\n",
        "print(\"KNN accuracy % :\",accuracy_score(y_test1,y_pre2)*100)\n",
        "print(\"KNN roc_auc_score :\",roc_auc_score(y_test1,y_pre2))\n",
        "print(f1_score(y_test1, y_pre2))"
      ],
      "execution_count": 15,
      "outputs": [
        {
          "output_type": "stream",
          "text": [
            "KNN accuracy % : 99.35000000000001\n",
            "KNN roc_auc_score : 0.9930902814101894\n",
            "0.9946303180503924\n"
          ],
          "name": "stdout"
        }
      ]
    },
    {
      "cell_type": "code",
      "metadata": {
        "id": "4PFya5aaiyyG",
        "colab_type": "code",
        "colab": {
          "base_uri": "https://localhost:8080/",
          "height": 68
        },
        "outputId": "668d0570-ce58-41e1-f7c3-dad405efeef1"
      },
      "source": [
        "\n",
        "ans3=RandomForestClassifier()\n",
        "ans3.fit(x_train1, y_train1)\n",
        "y_pred4= ans3.predict(x_test1)\n",
        "print(\"RANDOM FOREST accuracy % :\",accuracy_score(y_test1,y_pred4)*100)\n",
        "print(\"RANDOM FOREST roc_auc_score :\",roc_auc_score(y_test1,y_pred4))\n",
        "print(f1_score(y_test1, y_pred4))"
      ],
      "execution_count": 16,
      "outputs": [
        {
          "output_type": "stream",
          "text": [
            "RANDOM FOREST accuracy % : 100.0\n",
            "RANDOM FOREST roc_auc_score : 1.0\n",
            "1.0\n"
          ],
          "name": "stdout"
        }
      ]
    },
    {
      "cell_type": "code",
      "metadata": {
        "id": "wbnNyx7odYvC",
        "colab_type": "code",
        "colab": {
          "base_uri": "https://localhost:8080/",
          "height": 51
        },
        "outputId": "a2f6b732-74af-4b3b-bff3-88d6b721679d"
      },
      "source": [
        "arr=confusion_matrix(y_test1,y_pred4)\n",
        "arr"
      ],
      "execution_count": 17,
      "outputs": [
        {
          "output_type": "execute_result",
          "data": {
            "text/plain": [
              "array([[ 790,    0],\n",
              "       [   0, 1210]])"
            ]
          },
          "metadata": {
            "tags": []
          },
          "execution_count": 17
        }
      ]
    },
    {
      "cell_type": "code",
      "metadata": {
        "id": "q60S2xWXFX8i",
        "colab_type": "code",
        "colab": {
          "base_uri": "https://localhost:8080/",
          "height": 352
        },
        "outputId": "aa88bbeb-6c5d-46b0-b68a-7fa5d651b56b"
      },
      "source": [
        "cm_df = pd.DataFrame(arr,[0,1],[0,1])                      \n",
        "plt.figure(figsize=(5,5))   \n",
        "plt.title('Confusion Matrix',fontsize=15,color='green')\n",
        "sns.heatmap(cm_df, annot=True,fmt='.2f',cmap=\"seismic\")\n",
        "plt.xlabel('Predicted')\n",
        "plt.ylabel('True')\n",
        "plt.show()"
      ],
      "execution_count": 18,
      "outputs": [
        {
          "output_type": "display_data",
          "data": {
            "image/png": "[encoded data removed]",
            "text/plain": [
              "<Figure size 360x360 with 2 Axes>"
            ]
          },
          "metadata": {
            "tags": [],
            "needs_background": "light"
          }
        }
      ]
    }
  ]
}